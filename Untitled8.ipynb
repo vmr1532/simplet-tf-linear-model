{
  "nbformat": 4,
  "nbformat_minor": 0,
  "metadata": {
    "colab": {
      "name": "Untitled8.ipynb",
      "version": "0.3.2",
      "provenance": [],
      "include_colab_link": true
    },
    "kernelspec": {
      "name": "python3",
      "display_name": "Python 3"
    }
  },
  "cells": [
    {
      "cell_type": "markdown",
      "metadata": {
        "id": "view-in-github",
        "colab_type": "text"
      },
      "source": [
        "<a href=\"https://colab.research.google.com/github/vmr1532/simplet-tf-linear-model/blob/master/Untitled8.ipynb\" target=\"_parent\"><img src=\"https://colab.research.google.com/assets/colab-badge.svg\" alt=\"Open In Colab\"/></a>"
      ]
    },
    {
      "metadata": {
        "id": "08vau1e6q7ZM",
        "colab_type": "code",
        "colab": {}
      },
      "cell_type": "code",
      "source": [
        "import tensorflow as tf\n",
        "import pandas as pd\n",
        "import seaborn as sb\n",
        "import numpy as np\n"
      ],
      "execution_count": 0,
      "outputs": []
    },
    {
      "metadata": {
        "id": "QbyhkaANrK0i",
        "colab_type": "code",
        "colab": {}
      },
      "cell_type": "code",
      "source": [
        "x=tf.placeholder(tf.float32,shape=(None,),name=\"x\")\n",
        "y=tf.placeholder(tf.float32,shape=(None,),name=\"y\")"
      ],
      "execution_count": 0,
      "outputs": []
    },
    {
      "metadata": {
        "id": "tAjNjzREwqsr",
        "colab_type": "code",
        "colab": {
          "base_uri": "https://localhost:8080/",
          "height": 89
        },
        "outputId": "e495238f-987d-4785-925c-e33ce8cf8662"
      },
      "cell_type": "code",
      "source": [
        "W=tf.Variable(np.random.normal(),name=\"weight\")\n",
        "b=tf.Variable(np.random.randn(),name=\"bias\")"
      ],
      "execution_count": 16,
      "outputs": [
        {
          "output_type": "stream",
          "text": [
            "WARNING:tensorflow:From /usr/local/lib/python3.6/dist-packages/tensorflow/python/framework/op_def_library.py:263: colocate_with (from tensorflow.python.framework.ops) is deprecated and will be removed in a future version.\n",
            "Instructions for updating:\n",
            "Colocations handled automatically by placer.\n"
          ],
          "name": "stdout"
        }
      ]
    },
    {
      "metadata": {
        "id": "H_UG9O5fxxem",
        "colab_type": "code",
        "colab": {}
      },
      "cell_type": "code",
      "source": [
        "y_pred=tf.add(tf.multiply(x,W),b)"
      ],
      "execution_count": 0,
      "outputs": []
    },
    {
      "metadata": {
        "id": "10BmY11Oyvtq",
        "colab_type": "code",
        "colab": {}
      },
      "cell_type": "code",
      "source": [
        "#cost function\n",
        "cost=tf.reduce_mean(tf.square(y_pred- y))\n"
      ],
      "execution_count": 0,
      "outputs": []
    },
    {
      "metadata": {
        "id": "MzYeUKl2zL3H",
        "colab_type": "code",
        "colab": {}
      },
      "cell_type": "code",
      "source": [
        "#randomly generating data\n",
        "x_batch=np.linspace(-1,1,101)"
      ],
      "execution_count": 0,
      "outputs": []
    },
    {
      "metadata": {
        "id": "8sFp0h6nzj9G",
        "colab_type": "code",
        "colab": {}
      },
      "cell_type": "code",
      "source": [
        "y_batch=2*x_batch + np.random.randn(*x_batch.shape)*0.3\n",
        "lr=0.2\n",
        "optimizer=tf.train.AdamOptimizer(lr).minimize(cost)"
      ],
      "execution_count": 0,
      "outputs": []
    },
    {
      "metadata": {
        "id": "XYwaHGGk0PHl",
        "colab_type": "code",
        "colab": {}
      },
      "cell_type": "code",
      "source": [
        "init=tf.global_variables_initializer()"
      ],
      "execution_count": 0,
      "outputs": []
    },
    {
      "metadata": {
        "id": "zgy9Oo5h0tog",
        "colab_type": "code",
        "colab": {}
      },
      "cell_type": "code",
      "source": [
        "with tf.Session() as session:\n",
        "  session.run(init)"
      ],
      "execution_count": 0,
      "outputs": []
    },
    {
      "metadata": {
        "id": "EEfi1BOG044L",
        "colab_type": "code",
        "colab": {
          "base_uri": "https://localhost:8080/",
          "height": 712
        },
        "outputId": "c86f9252-49b5-455f-fb3e-6686c33814dd"
      },
      "cell_type": "code",
      "source": [
        "with tf.Session() as session:\n",
        "  session.run(init)\n",
        "  feed_dict={x:x_batch,y:y_batch}\n",
        "  for _ in range(40):\n",
        "    loss_var,_=session.run([cost,optimizer],feed_dict)\n",
        "    print(\"loss=\",loss_var)\n",
        "    y_pred_batch=session.run(y_pred,{x:x_batch})"
      ],
      "execution_count": 33,
      "outputs": [
        {
          "output_type": "stream",
          "text": [
            "loss= 2.362734\n",
            "loss= 2.005585\n",
            "loss= 1.71309\n",
            "loss= 1.4268486\n",
            "loss= 1.1668215\n",
            "loss= 0.94635415\n",
            "loss= 0.758751\n",
            "loss= 0.5931687\n",
            "loss= 0.4501089\n",
            "loss= 0.33485478\n",
            "loss= 0.24856305\n",
            "loss= 0.18614817\n",
            "loss= 0.14135702\n",
            "loss= 0.11178787\n",
            "loss= 0.09759835\n",
            "loss= 0.09766917\n",
            "loss= 0.10785113\n",
            "loss= 0.12285054\n",
            "loss= 0.13930075\n",
            "loss= 0.15622267\n",
            "loss= 0.17309342\n",
            "loss= 0.18823424\n",
            "loss= 0.19926643\n",
            "loss= 0.20489818\n",
            "loss= 0.20566402\n",
            "loss= 0.20286237\n",
            "loss= 0.19718204\n",
            "loss= 0.18856524\n",
            "loss= 0.17722969\n",
            "loss= 0.16432717\n",
            "loss= 0.15138063\n",
            "loss= 0.13931312\n",
            "loss= 0.12826449\n",
            "loss= 0.118282214\n",
            "loss= 0.10984743\n",
            "loss= 0.10355927\n",
            "loss= 0.09951456\n",
            "loss= 0.097250775\n",
            "loss= 0.096281014\n",
            "loss= 0.09645255\n"
          ],
          "name": "stdout"
        }
      ]
    },
    {
      "metadata": {
        "id": "wGVsc2en2Ghm",
        "colab_type": "code",
        "colab": {}
      },
      "cell_type": "code",
      "source": [
        ""
      ],
      "execution_count": 0,
      "outputs": []
    },
    {
      "metadata": {
        "id": "yP1xaUL96Q44",
        "colab_type": "code",
        "colab": {}
      },
      "cell_type": "code",
      "source": [
        ""
      ],
      "execution_count": 0,
      "outputs": []
    }
  ]
}